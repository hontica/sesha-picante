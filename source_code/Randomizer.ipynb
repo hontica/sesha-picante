{
 "cells": [
  {
   "cell_type": "code",
   "execution_count": null,
   "id": "53f98ed9-7dca-419b-9bd9-e24e49acb5d1",
   "metadata": {},
   "outputs": [
    {
     "name": "stdout",
     "output_type": "stream",
     "text": [
      "Random Number Generator (1-20)\n"
     ]
    },
    {
     "name": "stdin",
     "output_type": "stream",
     "text": [
      "Press Enter to generate a random number... \n"
     ]
    },
    {
     "name": "stdout",
     "output_type": "stream",
     "text": [
      "Generated Number: 3\n"
     ]
    },
    {
     "name": "stdin",
     "output_type": "stream",
     "text": [
      "Do you want to generate another number? (y/n):  y\n",
      "Press Enter to generate a random number... \n"
     ]
    },
    {
     "name": "stdout",
     "output_type": "stream",
     "text": [
      "Generated Number: 11\n"
     ]
    }
   ],
   "source": [
    "import random\n",
    "\n",
    "def generate_random_number():\n",
    "    return random.randint(1, 20)\n",
    "\n",
    "def main():\n",
    "    print(\"Random Number Generator (1-20)\")\n",
    "    while True:\n",
    "        input(\"Press Enter to generate a random number...\")\n",
    "        print(f\"Generated Number: {generate_random_number()}\")\n",
    "        again = input(\"Do you want to generate another number? (y/n): \")\n",
    "        if again.lower() != 'y':\n",
    "            print(\"Goodbye!\")\n",
    "            break\n",
    "\n",
    "if __name__ == \"__main__\":\n",
    "    main()"
   ]
  },
  {
   "cell_type": "code",
   "execution_count": null,
   "id": "abbbd269-7f45-475d-bf3b-dfb35fd4a63c",
   "metadata": {},
   "outputs": [],
   "source": []
  }
 ],
 "metadata": {
  "kernelspec": {
   "display_name": "Python [conda env:seshuno] *",
   "language": "python",
   "name": "conda-env-seshuno-py"
  },
  "language_info": {
   "codemirror_mode": {
    "name": "ipython",
    "version": 3
   },
   "file_extension": ".py",
   "mimetype": "text/x-python",
   "name": "python",
   "nbconvert_exporter": "python",
   "pygments_lexer": "ipython3",
   "version": "3.12.8"
  }
 },
 "nbformat": 4,
 "nbformat_minor": 5
}
